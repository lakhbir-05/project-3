{
  "nbformat": 4,
  "nbformat_minor": 0,
  "metadata": {
    "colab": {
      "provenance": [],
      "authorship_tag": "ABX9TyNt+fddjaiISOBzZS1nPWpa",
      "include_colab_link": true
    },
    "kernelspec": {
      "name": "python3",
      "display_name": "Python 3"
    },
    "language_info": {
      "name": "python"
    }
  },
  "cells": [
    {
      "cell_type": "markdown",
      "metadata": {
        "id": "view-in-github",
        "colab_type": "text"
      },
      "source": [
        "<a href=\"https://colab.research.google.com/github/lakhbir-05/project-3/blob/main/subsetproblem.ipynb\" target=\"_parent\"><img src=\"https://colab.research.google.com/assets/colab-badge.svg\" alt=\"Open In Colab\"/></a>"
      ]
    },
    {
      "cell_type": "markdown",
      "source": [
        "## **subset** **selection** **problem**\n",
        "problem statement:\n",
        "find all the subsets from a set of numbers whose sum is zero.\n",
        "constraint: subset size must be 5\n",
        "set={-12,-3,-6,7,2,-2,6,3,9,-7,-5,-8,1,11,-9,-4}"
      ],
      "metadata": {
        "id": "ttqxoXHwQbQ0"
      }
    },
    {
      "cell_type": "code",
      "source": [
        "\n",
        "import random as rnd\n",
        "input_set         = set([-12, -3, -6, 7, 2, -2, 6, 3, 9, -7, -5, -8, 1, 11, -9, -4])\n",
        "SetSize     = 5\n",
        "ResultList  = set()\n",
        "Iterations  = 1000\n",
        "SetAsList = list(input_set)\n",
        "for i in range(Iterations):\n",
        "    Chromosome = rnd.sample(SetAsList,SetSize)\n",
        "    if sum(Chromosome) == 0:\n",
        "        ResultList.add(tuple(Chromosome))\n",
        "for r in ResultList:\n",
        "        print (r)\n",
        "\n",
        "print (\"\\nTotal Sets: \", len(ResultList))"
      ],
      "metadata": {
        "colab": {
          "base_uri": "https://localhost:8080/"
        },
        "id": "OKnn1TR4gXI4",
        "outputId": "df42c19b-ab76-43b9-dbe0-5355b4604f4a"
      },
      "execution_count": null,
      "outputs": [
        {
          "output_type": "stream",
          "name": "stdout",
          "text": [
            "(-6, 3, 9, -2, -4)\n",
            "(2, -9, 1, 9, -3)\n",
            "(2, -12, -3, 7, 6)\n",
            "(9, 6, 2, -8, -9)\n",
            "(-5, 11, -9, -4, 7)\n",
            "(-5, -12, 2, 6, 9)\n",
            "(11, -9, 1, 3, -6)\n",
            "(9, -4, -5, 3, -3)\n",
            "(-4, 9, 6, -12, 1)\n",
            "(-7, -5, 11, 7, -6)\n",
            "(3, -4, 2, -8, 7)\n",
            "(-3, -5, 7, -8, 9)\n",
            "(-3, -12, 11, 3, 1)\n",
            "(6, -7, 3, -3, 1)\n",
            "(-5, 1, 9, 7, -12)\n",
            "(1, -12, 11, -3, 3)\n",
            "(-3, -2, 1, 11, -7)\n",
            "(-2, -5, 7, -3, 3)\n",
            "(7, -5, 11, -9, -4)\n",
            "(-6, -3, 6, 11, -8)\n",
            "(-4, -12, 6, 9, 1)\n",
            "(-6, 9, 2, -3, -2)\n",
            "(9, 3, 2, -6, -8)\n",
            "(-5, -3, 7, 3, -2)\n",
            "(-3, 2, 7, -12, 6)\n",
            "(1, 6, -7, -3, 3)\n",
            "(7, -6, -3, 11, -9)\n",
            "(-6, -7, 7, 11, -5)\n",
            "(-3, 1, 6, 2, -6)\n",
            "(-7, 9, -6, 6, -2)\n",
            "(11, -8, 2, -3, -2)\n",
            "(-12, 7, -6, 9, 2)\n",
            "(9, -12, -2, 11, -6)\n",
            "\n",
            "Total Sets:  33\n"
          ]
        }
      ]
    },
    {
      "cell_type": "markdown",
      "source": [
        "problem statement:\n",
        "find all the subsets from a set of numbers whose sum is zero.\n",
        "constraint: subset size must be 3 to 6\n",
        "set={-12,-3,-6,7,2,-2,6,3,9,-7,-5,-8,1,11,-9,-4}"
      ],
      "metadata": {
        "id": "PPynMZzRWQu3"
      }
    },
    {
      "cell_type": "code",
      "source": [
        "import random as rnd\n",
        "input_set         = set([-12, -3, -6, 7, 2, -2, 6, 3, 9, -7, -5, -8, 1, 11, -9, -4])\n",
        "SetLB             = 3\n",
        "SetUB             = 6\n",
        "resultlist        = set()\n",
        "iterations        = 1000\n",
        "input_list   = list(input_set)\n",
        "for i in range(iterations):\n",
        "    setsize = rnd.randint(SetLB,SetUB)\n",
        "    chromosome = rnd.sample(input_list,setsize)\n",
        "    chromosome.sort()\n",
        "    if sum(chromosome) == 0:\n",
        "        resultlist.add(tuple(chromosome))\n",
        "for r in resultlist:\n",
        "    print (r)\n",
        "print (\"\\nTotal Sets: \", len(resultlist))"
      ],
      "metadata": {
        "colab": {
          "base_uri": "https://localhost:8080/"
        },
        "id": "gXHB5oVXg_Uu",
        "outputId": "c03c9e79-20e9-4ef4-d66f-0ddadbd09ffd"
      },
      "execution_count": null,
      "outputs": [
        {
          "output_type": "stream",
          "name": "stdout",
          "text": [
            "(-8, -3, 2, 9)\n",
            "(-3, -2, 2, 3)\n",
            "(-8, -5, 6, 7)\n",
            "(-9, -7, 2, 3, 11)\n",
            "(-12, -2, 1, 6, 7)\n",
            "(-8, -6, 1, 6, 7)\n",
            "(-8, -4, -3, 1, 3, 11)\n",
            "(-8, -5, -3, 2, 3, 11)\n",
            "(-4, -3, -2, 9)\n",
            "(-9, -7, 7, 9)\n",
            "(-9, -2, 11)\n",
            "(-6, -3, 9)\n",
            "(-4, -2, 6)\n",
            "(-8, -7, 1, 2, 3, 9)\n",
            "(-7, -4, 2, 9)\n",
            "(-6, -5, 11)\n",
            "(-8, -5, 2, 11)\n",
            "(-9, -8, -3, 2, 7, 11)\n",
            "(-9, -8, 6, 11)\n",
            "(-8, -7, -2, 6, 11)\n",
            "(-7, 1, 6)\n",
            "(-9, 3, 6)\n",
            "(-9, -8, 1, 3, 6, 7)\n",
            "(-9, -4, 6, 7)\n",
            "(-12, -8, 9, 11)\n",
            "(-3, 1, 2)\n",
            "\n",
            "Total Sets:  26\n"
          ]
        }
      ]
    }
  ]
}